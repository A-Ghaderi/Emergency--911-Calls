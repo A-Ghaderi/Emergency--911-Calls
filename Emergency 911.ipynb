{
 "cells": [
  {
   "cell_type": "code",
   "execution_count": null,
   "metadata": {},
   "outputs": [],
   "source": [
    "## Import numpy and pandas ##\n",
    "import numpy as np\n",
    "import pandas as pd\n",
    "\n",
    "## Import visualization libraries and set %matplotlib inline ##\n",
    "import matplotlib.pyplot as plt\n",
    "import seaborn as sns\n",
    "sns.set_style('whitegrid')\n",
    "%matplotlib inline\n",
    "\n",
    "## Read data ##\n",
    "df = pd.read_csv('911.csv')\n",
    "\n",
    "## Check the info ##\n",
    "df.info()\n",
    "\n",
    "## Check the head ##\n",
    "df.head(3)"
   ]
  },
  {
   "cell_type": "code",
   "execution_count": null,
   "metadata": {},
   "outputs": [],
   "source": [
    "## Top 5 zipcodes for 911 calls ##\n",
    "df['zip'].value_counts().head(5)\n",
    "\n",
    "## Unique title codes ##\n",
    "df['title'].nunique()"
   ]
  },
  {
   "cell_type": "code",
   "execution_count": null,
   "metadata": {},
   "outputs": [],
   "source": [
    "## A new column called \"Reason\" that contains just reasons from Title column ##\n",
    "df['Reason'] = df['title'].apply(lambda title: title.split(':')[0])\n",
    "\n",
    "## The most common Reason for a 911 call based off of this new column ##\n",
    "df['Reason'].value_counts()\n",
    "\n",
    "## Countplot of 911 calls by Reason ##\n",
    "sns.countplot(x='Reason',data=df,palette='viridis')"
   ]
  },
  {
   "cell_type": "code",
   "execution_count": null,
   "metadata": {},
   "outputs": [],
   "source": [
    "## Convert the column of TimeStamp from strings to DateTime objects ##\n",
    "df['timeStamp'] = pd.to_datetime(df['timeStamp'])\n",
    "\n",
    "## creating 3 new columns called Hour, Month, and Day of Week ##\n",
    "df['Hour'] = df['timeStamp'].apply(lambda time: time.hour)\n",
    "df['Month'] = df['timeStamp'].apply(lambda time: time.month)\n",
    "df['Day of Week'] = df['timeStamp'].apply(lambda time: time.dayofweek)\n",
    "\n",
    "dmap = {0:'Mon',1:'Tue',2:'Wed',3:'Thu',4:'Fri',5:'Sat',6:'Sun'}\n",
    "df['Day of Week'] = df['Day of Week'].map(dmap)\n",
    "\n",
    "## Countplot of the Month column with the hue based off of the Reason column ##\n",
    "sns.countplot(x='Month',data=df,hue='Reason',palette='viridis')\n",
    "plt.legend(bbox_to_anchor=(1.05, 1), loc=2, borderaxespad=0.)"
   ]
  },
  {
   "cell_type": "code",
   "execution_count": null,
   "metadata": {},
   "outputs": [],
   "source": [
    "## Creating a gropuby object called byMonth, where you group the DataFrame by the month column and using the count() method for aggregation ##\n",
    "byMonth = df.groupby('Month').count()\n",
    "byMonth.head()\n",
    "\n",
    "## create a simple plot off of the dataframe indicating the count of calls per month ##\n",
    "byMonth['twp'].plot()\n",
    "sns.lmplot(x='Month',y='twp',data=byMonth.reset_index())"
   ]
  },
  {
   "cell_type": "code",
   "execution_count": null,
   "metadata": {},
   "outputs": [],
   "source": [
    "## Create a new column called 'Date' that contains the date from the timeStamp column ##\n",
    "df['Date']=df['timeStamp'].apply(lambda t: t.date())\n",
    "\n",
    "## groupby this Date column with the count() aggregate and create a plot of counts of 911 calls ## \n",
    "df.groupby('Date').count()['twp'].plot()\n",
    "plt.tight_layout()\n",
    "\n",
    "df[df['Reason']=='Traffic'].groupby('Date').count()['twp'].plot()\n",
    "plt.title('Traffic')\n",
    "plt.tight_layout()"
   ]
  },
  {
   "cell_type": "code",
   "execution_count": null,
   "metadata": {},
   "outputs": [],
   "source": [
    "##  restructure the dataframe so that the columns become the Hours and the Index becomes the Day of the Week ##\n",
    "dayHour = df.groupby(by=['Day of Week','Hour']).count()['Reason'].unstack()\n",
    "dayHour.head()\n",
    "\n",
    "##  create a HeatMap using this new DataFrame ##\n",
    "plt.figure(figsize=(12,6))\n",
    "sns.heatmap(dayHour,cmap='viridis')\n",
    "\n",
    "## create a clustermap using this DataFrame ##\n",
    "sns.clustermap(dayHour,cmap='viridis')"
   ]
  }
 ],
 "metadata": {
  "kernelspec": {
   "display_name": "Python 3",
   "language": "python",
   "name": "python3"
  },
  "language_info": {
   "codemirror_mode": {
    "name": "ipython",
    "version": 3
   },
   "file_extension": ".py",
   "mimetype": "text/x-python",
   "name": "python",
   "nbconvert_exporter": "python",
   "pygments_lexer": "ipython3",
   "version": "3.7.4"
  }
 },
 "nbformat": 4,
 "nbformat_minor": 2
}
